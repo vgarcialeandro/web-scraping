{
 "cells": [
  {
   "cell_type": "code",
   "execution_count": 24,
   "metadata": {},
   "outputs": [],
   "source": [
    "#MERCADO LIBRE \n",
    "\n",
    "#EXTRACCION DE NUEVO CONTENIDO.\n",
    "# 1. import of libraries \n",
    "#-----------------------------\n",
    "\n",
    "from bs4 import BeautifulSoup\n",
    "import requests\n",
    "import re\n",
    "import pandas\n",
    "import json\n",
    "import random\n",
    "import time"
   ]
  },
  {
   "cell_type": "code",
   "execution_count": 25,
   "metadata": {},
   "outputs": [],
   "source": [
    "import urllib3\n",
    "urllib3.disable_warnings()"
   ]
  },
  {
   "cell_type": "code",
   "execution_count": 26,
   "metadata": {},
   "outputs": [],
   "source": [
    "df_IDs = pandas.read_csv('data_IDs.csv', encoding = \"latin1\")"
   ]
  },
  {
   "cell_type": "code",
   "execution_count": null,
   "metadata": {},
   "outputs": [],
   "source": []
  },
  {
   "cell_type": "code",
   "execution_count": 29,
   "metadata": {},
   "outputs": [],
   "source": [
    "sellers_id = df_IDs['Cust_id'].values.tolist()"
   ]
  },
  {
   "cell_type": "code",
   "execution_count": null,
   "metadata": {},
   "outputs": [],
   "source": [
    "sellers_id"
   ]
  },
  {
   "cell_type": "code",
   "execution_count": 31,
   "metadata": {},
   "outputs": [],
   "source": [
    "# 2. FUNCIONES\n",
    "#------------------\n",
    "def get_index_page(n_page):\n",
    "    #variable de retorno.\n",
    "    index_page = ''\n",
    "    #numero de pagina\n",
    "    if(n_page == 1):\n",
    "        index_page = ''\n",
    "    else:\n",
    "        index_page = '_Desde_' + str((n_page-1)*50 + 1)\n",
    "    return index_page\n",
    "\n",
    "def get_link(id_seller,n_page):\n",
    "    link_base = 'https://listado.mercadolibre.com.pe/' + get_index_page(n_page) +'_CustId_'+ str(id_seller)\n",
    "    #example: https://listado.mercadolibre.com.pe/_Desde_51_CustId_27279220\n",
    "    return link_base\n",
    "\n",
    "def parsing_add(li):\n",
    "    c_article = li.find(\"h2\", {\"class\":\"item__title list-view-item-title\"}).find(\"span\").text\n",
    "    c_link = li.find(\"h2\", {\"class\":\"item__title list-view-item-title\"}).find(\"a\").get(\"href\")\n",
    "    c_coin = li.find(\"span\", {\"class\":\"price__symbol\"}).text\n",
    "    c_price = li.find(\"span\", {\"class\":\"price__fraction\"}).text\n",
    "    c_condition = li.find(\"div\", {\"class\":\"item__condition\"}).text\n",
    "    return c_article, c_link, c_coin, c_price, c_condition\n",
    "\n",
    "def parsing_page(page, number, seller):\n",
    "    #recuperar todos los anuncios.\n",
    "    soup4 = BeautifulSoup(page)   \n",
    "    list_articles = soup4.find(\"ol\",{\"id\":\"searchResults\"}).find_all(\"li\")\n",
    "    #create a dataframe\n",
    "    col_names =  [\n",
    "        'c_article',\n",
    "        'c_coin',\n",
    "        'c_price',\n",
    "        'c_condition',\n",
    "        'c_link'\n",
    "    ]\n",
    "    df2 = pd.DataFrame(columns = col_names)\n",
    "    #recorrer cada anuncio.\n",
    "    for li in list_articles:\n",
    "        #scraping_web\n",
    "        c_article, c_link, c_coin, c_price, c_condition = parsing_add(li)\n",
    "        #creando el row.\n",
    "        row = {\n",
    "            'c_article': [c_article],\n",
    "            'c_coin': [c_coin],\n",
    "            'c_price': [c_price],\n",
    "            'c_condition': [c_condition],\n",
    "            'c_link': [c_link]\n",
    "        }\n",
    "        df = pd.DataFrame(data=row)\n",
    "        df2 = df2.append(df, ignore_index=True)\n",
    "        try:\n",
    "            pass\n",
    "        except:\n",
    "            pass\n",
    "    #df2['Cust_id'] = seller\n",
    "    #save csv    \n",
    "    df2.to_csv('merlibre'+str(seller)+'_'+ str(number) +'.csv', sep='|', encoding='utf-8')\n",
    "    return df2"
   ]
  },
  {
   "cell_type": "code",
   "execution_count": 32,
   "metadata": {},
   "outputs": [
    {
     "data": {
      "text/plain": [
       "'C:\\\\Users\\\\Thinkpad\\\\Documents\\\\Python Scripts\\\\webscraping\\\\mercado_libre'"
      ]
     },
     "execution_count": 32,
     "metadata": {},
     "output_type": "execute_result"
    }
   ],
   "source": [
    "pwd"
   ]
  },
  {
   "cell_type": "code",
   "execution_count": null,
   "metadata": {},
   "outputs": [],
   "source": [
    "# 3. EJECUCION MASIVA.\n",
    "#--------------------------------\n",
    "\n",
    "#cargar aqui los 300 id.\n",
    "#sellers_id = [186278775,176240897]\n",
    "#sellers_id = [176240897]\n",
    "\n",
    "for seller in sellers_id:\n",
    "    #recuperar para un vendedor todo su listado.\n",
    "    print(seller)\n",
    "    #visitar cada pagina.\n",
    "    existe_avisos = True\n",
    "    pagina = 0\n",
    "    while existe_avisos:\n",
    "        #aumentar en uno la pagina\n",
    "        pagina = pagina + 1\n",
    "        #recrear el link\n",
    "        link_base = get_link(id_seller = str(seller), n_page = pagina)\n",
    "        print(link_base)\n",
    "        #visitar la pagina\n",
    "        req = requests.get(link_base, verify = False)#, proxies = proxies\n",
    "        root = req.text\n",
    "        #scrapear\n",
    "        try:\n",
    "            parsing_page(page=root, number=pagina, seller=seller)\n",
    "        except:    \n",
    "            existe_avisos = False\n",
    "    #break"
   ]
  },
  {
   "cell_type": "code",
   "execution_count": null,
   "metadata": {},
   "outputs": [],
   "source": []
  },
  {
   "cell_type": "markdown",
   "metadata": {},
   "source": [
    "# import todos los CSV"
   ]
  },
  {
   "cell_type": "code",
   "execution_count": null,
   "metadata": {},
   "outputs": [],
   "source": [
    "import pandas as pd\n",
    "import os\n",
    "df_list = []\n",
    "for file in os.listdir(your_directory):\n",
    "    df = pd.read_csv(file)\n",
    "\tdf_list.append(df)\n",
    "final_df = df.append(df for df in df_list)\n",
    "final_df.to_csv('final.csv', index=False)"
   ]
  },
  {
   "cell_type": "code",
   "execution_count": null,
   "metadata": {},
   "outputs": [],
   "source": [
    "import pandas as pd\n",
    "import os\n",
    "df_list = []\n",
    "your_directory=\"\"\n",
    "for file in os.listdir(your_directory):\n",
    "    print(file)\n",
    "    #df = pd.read_csv(your_directory+\"/\"+file, encoding = \"latin1\")"
   ]
  },
  {
   "cell_type": "code",
   "execution_count": 32,
   "metadata": {},
   "outputs": [],
   "source": [
    "df_prueba = pd.read_csv('', encoding = \"latin1\")"
   ]
  },
  {
   "cell_type": "code",
   "execution_count": 33,
   "metadata": {},
   "outputs": [],
   "source": [
    "df_prueba = pd.read_csv(your_directory+'//1.csv', encoding = \"latin1\")"
   ]
  },
  {
   "cell_type": "code",
   "execution_count": 34,
   "metadata": {},
   "outputs": [
    {
     "data": {
      "text/html": [
       "<div>\n",
       "<style scoped>\n",
       "    .dataframe tbody tr th:only-of-type {\n",
       "        vertical-align: middle;\n",
       "    }\n",
       "\n",
       "    .dataframe tbody tr th {\n",
       "        vertical-align: top;\n",
       "    }\n",
       "\n",
       "    .dataframe thead th {\n",
       "        text-align: right;\n",
       "    }\n",
       "</style>\n",
       "<table border=\"1\" class=\"dataframe\">\n",
       "  <thead>\n",
       "    <tr style=\"text-align: right;\">\n",
       "      <th></th>\n",
       "      <th>|c_article|c_coin|c_price|c_condition|c_link</th>\n",
       "    </tr>\n",
       "  </thead>\n",
       "  <tbody>\n",
       "    <tr>\n",
       "      <th>0</th>\n",
       "      <td>0| Llanta Nexen Npriz 225/55 R18 98h En Muy Bu...</td>\n",
       "    </tr>\n",
       "  </tbody>\n",
       "</table>\n",
       "</div>"
      ],
      "text/plain": [
       "        |c_article|c_coin|c_price|c_condition|c_link\n",
       "0  0| Llanta Nexen Npriz 225/55 R18 98h En Muy Bu..."
      ]
     },
     "execution_count": 34,
     "metadata": {},
     "output_type": "execute_result"
    }
   ],
   "source": [
    "df_prueba.head()"
   ]
  },
  {
   "cell_type": "code",
   "execution_count": null,
   "metadata": {},
   "outputs": [],
   "source": []
  },
  {
   "cell_type": "code",
   "execution_count": null,
   "metadata": {},
   "outputs": [],
   "source": []
  },
  {
   "cell_type": "code",
   "execution_count": null,
   "metadata": {},
   "outputs": [],
   "source": []
  },
  {
   "cell_type": "code",
   "execution_count": null,
   "metadata": {},
   "outputs": [],
   "source": []
  },
  {
   "cell_type": "code",
   "execution_count": null,
   "metadata": {},
   "outputs": [],
   "source": []
  }
 ],
 "metadata": {
  "kernelspec": {
   "display_name": "Python 3",
   "language": "python",
   "name": "python3"
  },
  "language_info": {
   "codemirror_mode": {
    "name": "ipython",
    "version": 3
   },
   "file_extension": ".py",
   "mimetype": "text/x-python",
   "name": "python",
   "nbconvert_exporter": "python",
   "pygments_lexer": "ipython3",
   "version": "3.6.8"
  }
 },
 "nbformat": 4,
 "nbformat_minor": 2
}
